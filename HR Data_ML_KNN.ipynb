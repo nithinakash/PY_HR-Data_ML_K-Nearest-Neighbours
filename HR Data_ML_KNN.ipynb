{
 "cells": [
  {
   "cell_type": "code",
   "execution_count": 1,
   "id": "c043988a",
   "metadata": {},
   "outputs": [],
   "source": [
    "import numpy as np\n",
    "import pandas as pd\n",
    "import matplotlib.pyplot as plt\n",
    "import seaborn as sns\n",
    "%matplotlib inline"
   ]
  },
  {
   "cell_type": "code",
   "execution_count": 24,
   "id": "30baae21",
   "metadata": {},
   "outputs": [],
   "source": [
    "from sklearn.model_selection import train_test_split\n",
    "from sklearn.neighbors import KNeighborsClassifier\n",
    "from sklearn.metrics import roc_auc_score\n",
    "from sklearn.model_selection import cross_validate,cross_val_score,KFold,StratifiedKFold,GridSearchCV\n",
    "from sklearn.preprocessing import StandardScaler,minmax_scale"
   ]
  },
  {
   "cell_type": "markdown",
   "id": "30452851",
   "metadata": {},
   "source": [
    "### Datasets"
   ]
  },
  {
   "cell_type": "code",
   "execution_count": 3,
   "id": "ca37fb1b",
   "metadata": {},
   "outputs": [],
   "source": [
    "HR = pd.read_csv('C:/Users/Nithin/Downloads/ML_DT/HR_comma_sep.csv')"
   ]
  },
  {
   "cell_type": "markdown",
   "id": "f597e8dd",
   "metadata": {},
   "source": [
    "### Data Prep"
   ]
  },
  {
   "cell_type": "code",
   "execution_count": 4,
   "id": "c51bf140",
   "metadata": {},
   "outputs": [
    {
     "name": "stdout",
     "output_type": "stream",
     "text": [
      "<class 'pandas.core.frame.DataFrame'>\n",
      "RangeIndex: 14999 entries, 0 to 14998\n",
      "Data columns (total 10 columns):\n",
      " #   Column                 Non-Null Count  Dtype  \n",
      "---  ------                 --------------  -----  \n",
      " 0   satisfaction_level     14999 non-null  float64\n",
      " 1   last_evaluation        14999 non-null  float64\n",
      " 2   number_project         14999 non-null  int64  \n",
      " 3   average_montly_hours   14999 non-null  int64  \n",
      " 4   time_spend_company     14999 non-null  int64  \n",
      " 5   Work_accident          14999 non-null  int64  \n",
      " 6   left                   14999 non-null  int64  \n",
      " 7   promotion_last_5years  14999 non-null  int64  \n",
      " 8   department             14999 non-null  object \n",
      " 9   salary                 14999 non-null  object \n",
      "dtypes: float64(2), int64(6), object(2)\n",
      "memory usage: 1.1+ MB\n"
     ]
    }
   ],
   "source": [
    "HR.info()"
   ]
  },
  {
   "cell_type": "code",
   "execution_count": 5,
   "id": "c09f85af",
   "metadata": {},
   "outputs": [
    {
     "data": {
      "text/plain": [
       "satisfaction_level       0\n",
       "last_evaluation          0\n",
       "number_project           0\n",
       "average_montly_hours     0\n",
       "time_spend_company       0\n",
       "Work_accident            0\n",
       "left                     0\n",
       "promotion_last_5years    0\n",
       "department               0\n",
       "salary                   0\n",
       "dtype: int64"
      ]
     },
     "execution_count": 5,
     "metadata": {},
     "output_type": "execute_result"
    }
   ],
   "source": [
    "HR.isna().sum()"
   ]
  },
  {
   "cell_type": "code",
   "execution_count": 6,
   "id": "d93cee7f",
   "metadata": {},
   "outputs": [],
   "source": [
    "#Ordinal Label Encoding\n",
    "HR.salary = np.where(HR.salary == 'low',1,\n",
    "            np.where(HR.salary == 'medium',2,3))"
   ]
  },
  {
   "cell_type": "code",
   "execution_count": 7,
   "id": "36c4b4a3",
   "metadata": {},
   "outputs": [],
   "source": [
    "#One hot encoding\n",
    "HR.department.value_counts()\n",
    "\n",
    "dummy_df = pd.get_dummies(HR.department,drop_first=True,prefix='Dept')"
   ]
  },
  {
   "cell_type": "code",
   "execution_count": 8,
   "id": "3216ff94",
   "metadata": {},
   "outputs": [],
   "source": [
    "HR = pd.concat([HR,dummy_df],axis=1)\n",
    "del HR['department']"
   ]
  },
  {
   "cell_type": "markdown",
   "id": "ef8f233b",
   "metadata": {},
   "source": [
    "### Train & Test Model"
   ]
  },
  {
   "cell_type": "code",
   "execution_count": 9,
   "id": "8e5c4fe7",
   "metadata": {},
   "outputs": [],
   "source": [
    "feat = ['satisfaction_level', 'last_evaluation', 'number_project',\n",
    "       'average_montly_hours', 'time_spend_company', 'Work_accident',\n",
    "       'promotion_last_5years', 'salary', 'Dept_RandD', 'Dept_accounting',\n",
    "       'Dept_hr', 'Dept_management', 'Dept_marketing', 'Dept_product_mng',\n",
    "       'Dept_sales', 'Dept_support', 'Dept_technical']"
   ]
  },
  {
   "cell_type": "code",
   "execution_count": 10,
   "id": "bfe3611e",
   "metadata": {},
   "outputs": [],
   "source": [
    "train_x,test_x,train_y,test_y = train_test_split(HR[feat],HR['left'],test_size=0.3,random_state=12345)"
   ]
  },
  {
   "cell_type": "markdown",
   "id": "42126af7",
   "metadata": {},
   "source": [
    "### Standardisation of Train & Test Data"
   ]
  },
  {
   "cell_type": "code",
   "execution_count": 13,
   "id": "aaa2113c",
   "metadata": {},
   "outputs": [],
   "source": [
    "sc = StandardScaler()\n",
    "\n",
    "sc_model = sc.fit(train_x)"
   ]
  },
  {
   "cell_type": "code",
   "execution_count": 20,
   "id": "218d7ed3",
   "metadata": {},
   "outputs": [
    {
     "data": {
      "text/html": [
       "<div>\n",
       "<style scoped>\n",
       "    .dataframe tbody tr th:only-of-type {\n",
       "        vertical-align: middle;\n",
       "    }\n",
       "\n",
       "    .dataframe tbody tr th {\n",
       "        vertical-align: top;\n",
       "    }\n",
       "\n",
       "    .dataframe thead th {\n",
       "        text-align: right;\n",
       "    }\n",
       "</style>\n",
       "<table border=\"1\" class=\"dataframe\">\n",
       "  <thead>\n",
       "    <tr style=\"text-align: right;\">\n",
       "      <th></th>\n",
       "      <th>satisfaction_level</th>\n",
       "      <th>last_evaluation</th>\n",
       "      <th>number_project</th>\n",
       "      <th>average_montly_hours</th>\n",
       "      <th>time_spend_company</th>\n",
       "      <th>Work_accident</th>\n",
       "      <th>promotion_last_5years</th>\n",
       "      <th>salary</th>\n",
       "      <th>Dept_RandD</th>\n",
       "      <th>Dept_accounting</th>\n",
       "      <th>Dept_hr</th>\n",
       "      <th>Dept_management</th>\n",
       "      <th>Dept_marketing</th>\n",
       "      <th>Dept_product_mng</th>\n",
       "      <th>Dept_sales</th>\n",
       "      <th>Dept_support</th>\n",
       "      <th>Dept_technical</th>\n",
       "    </tr>\n",
       "  </thead>\n",
       "  <tbody>\n",
       "    <tr>\n",
       "      <th>0</th>\n",
       "      <td>1.076172</td>\n",
       "      <td>0.950348</td>\n",
       "      <td>-0.650406</td>\n",
       "      <td>-0.957957</td>\n",
       "      <td>-0.342879</td>\n",
       "      <td>-0.408588</td>\n",
       "      <td>-0.146975</td>\n",
       "      <td>-0.923000</td>\n",
       "      <td>-0.234895</td>\n",
       "      <td>-0.233538</td>\n",
       "      <td>-0.228736</td>\n",
       "      <td>-0.209889</td>\n",
       "      <td>-0.248364</td>\n",
       "      <td>-0.250947</td>\n",
       "      <td>-0.621883</td>\n",
       "      <td>-0.415074</td>\n",
       "      <td>2.153029</td>\n",
       "    </tr>\n",
       "    <tr>\n",
       "      <th>1</th>\n",
       "      <td>-1.085246</td>\n",
       "      <td>0.774938</td>\n",
       "      <td>0.155806</td>\n",
       "      <td>-1.555766</td>\n",
       "      <td>0.341120</td>\n",
       "      <td>-0.408588</td>\n",
       "      <td>-0.146975</td>\n",
       "      <td>0.641763</td>\n",
       "      <td>-0.234895</td>\n",
       "      <td>-0.233538</td>\n",
       "      <td>4.371845</td>\n",
       "      <td>-0.209889</td>\n",
       "      <td>-0.248364</td>\n",
       "      <td>-0.250947</td>\n",
       "      <td>-0.621883</td>\n",
       "      <td>-0.415074</td>\n",
       "      <td>-0.464462</td>\n",
       "    </tr>\n",
       "    <tr>\n",
       "      <th>2</th>\n",
       "      <td>0.996120</td>\n",
       "      <td>-1.213036</td>\n",
       "      <td>0.155806</td>\n",
       "      <td>-0.977884</td>\n",
       "      <td>-0.342879</td>\n",
       "      <td>-0.408588</td>\n",
       "      <td>-0.146975</td>\n",
       "      <td>-0.923000</td>\n",
       "      <td>-0.234895</td>\n",
       "      <td>-0.233538</td>\n",
       "      <td>-0.228736</td>\n",
       "      <td>-0.209889</td>\n",
       "      <td>-0.248364</td>\n",
       "      <td>-0.250947</td>\n",
       "      <td>-0.621883</td>\n",
       "      <td>-0.415074</td>\n",
       "      <td>2.153029</td>\n",
       "    </tr>\n",
       "    <tr>\n",
       "      <th>3</th>\n",
       "      <td>0.275647</td>\n",
       "      <td>-0.160579</td>\n",
       "      <td>0.155806</td>\n",
       "      <td>0.476786</td>\n",
       "      <td>-1.026878</td>\n",
       "      <td>-0.408588</td>\n",
       "      <td>-0.146975</td>\n",
       "      <td>-0.923000</td>\n",
       "      <td>-0.234895</td>\n",
       "      <td>-0.233538</td>\n",
       "      <td>-0.228736</td>\n",
       "      <td>-0.209889</td>\n",
       "      <td>-0.248364</td>\n",
       "      <td>-0.250947</td>\n",
       "      <td>-0.621883</td>\n",
       "      <td>-0.415074</td>\n",
       "      <td>2.153029</td>\n",
       "    </tr>\n",
       "    <tr>\n",
       "      <th>4</th>\n",
       "      <td>0.795988</td>\n",
       "      <td>1.184227</td>\n",
       "      <td>-0.650406</td>\n",
       "      <td>-1.296716</td>\n",
       "      <td>-0.342879</td>\n",
       "      <td>-0.408588</td>\n",
       "      <td>-0.146975</td>\n",
       "      <td>0.641763</td>\n",
       "      <td>-0.234895</td>\n",
       "      <td>-0.233538</td>\n",
       "      <td>-0.228736</td>\n",
       "      <td>-0.209889</td>\n",
       "      <td>4.026348</td>\n",
       "      <td>-0.250947</td>\n",
       "      <td>-0.621883</td>\n",
       "      <td>-0.415074</td>\n",
       "      <td>-0.464462</td>\n",
       "    </tr>\n",
       "    <tr>\n",
       "      <th>...</th>\n",
       "      <td>...</td>\n",
       "      <td>...</td>\n",
       "      <td>...</td>\n",
       "      <td>...</td>\n",
       "      <td>...</td>\n",
       "      <td>...</td>\n",
       "      <td>...</td>\n",
       "      <td>...</td>\n",
       "      <td>...</td>\n",
       "      <td>...</td>\n",
       "      <td>...</td>\n",
       "      <td>...</td>\n",
       "      <td>...</td>\n",
       "      <td>...</td>\n",
       "      <td>...</td>\n",
       "      <td>...</td>\n",
       "      <td>...</td>\n",
       "    </tr>\n",
       "    <tr>\n",
       "      <th>10494</th>\n",
       "      <td>-0.404799</td>\n",
       "      <td>0.248710</td>\n",
       "      <td>0.155806</td>\n",
       "      <td>-1.217008</td>\n",
       "      <td>-0.342879</td>\n",
       "      <td>-0.408588</td>\n",
       "      <td>-0.146975</td>\n",
       "      <td>-0.923000</td>\n",
       "      <td>-0.234895</td>\n",
       "      <td>-0.233538</td>\n",
       "      <td>-0.228736</td>\n",
       "      <td>-0.209889</td>\n",
       "      <td>-0.248364</td>\n",
       "      <td>-0.250947</td>\n",
       "      <td>-0.621883</td>\n",
       "      <td>2.409207</td>\n",
       "      <td>-0.464462</td>\n",
       "    </tr>\n",
       "    <tr>\n",
       "      <th>10495</th>\n",
       "      <td>-0.364773</td>\n",
       "      <td>-1.329976</td>\n",
       "      <td>0.155806</td>\n",
       "      <td>0.955034</td>\n",
       "      <td>0.341120</td>\n",
       "      <td>2.447450</td>\n",
       "      <td>-0.146975</td>\n",
       "      <td>0.641763</td>\n",
       "      <td>-0.234895</td>\n",
       "      <td>-0.233538</td>\n",
       "      <td>-0.228736</td>\n",
       "      <td>-0.209889</td>\n",
       "      <td>-0.248364</td>\n",
       "      <td>-0.250947</td>\n",
       "      <td>-0.621883</td>\n",
       "      <td>-0.415074</td>\n",
       "      <td>2.153029</td>\n",
       "    </tr>\n",
       "    <tr>\n",
       "      <th>10496</th>\n",
       "      <td>-1.765692</td>\n",
       "      <td>1.184227</td>\n",
       "      <td>0.155806</td>\n",
       "      <td>-0.240585</td>\n",
       "      <td>-1.026878</td>\n",
       "      <td>-0.408588</td>\n",
       "      <td>-0.146975</td>\n",
       "      <td>0.641763</td>\n",
       "      <td>-0.234895</td>\n",
       "      <td>-0.233538</td>\n",
       "      <td>-0.228736</td>\n",
       "      <td>-0.209889</td>\n",
       "      <td>-0.248364</td>\n",
       "      <td>-0.250947</td>\n",
       "      <td>-0.621883</td>\n",
       "      <td>-0.415074</td>\n",
       "      <td>2.153029</td>\n",
       "    </tr>\n",
       "    <tr>\n",
       "      <th>10497</th>\n",
       "      <td>-0.484852</td>\n",
       "      <td>0.950348</td>\n",
       "      <td>0.155806</td>\n",
       "      <td>0.775691</td>\n",
       "      <td>3.077116</td>\n",
       "      <td>-0.408588</td>\n",
       "      <td>-0.146975</td>\n",
       "      <td>0.641763</td>\n",
       "      <td>-0.234895</td>\n",
       "      <td>-0.233538</td>\n",
       "      <td>-0.228736</td>\n",
       "      <td>-0.209889</td>\n",
       "      <td>-0.248364</td>\n",
       "      <td>3.984899</td>\n",
       "      <td>-0.621883</td>\n",
       "      <td>-0.415074</td>\n",
       "      <td>-0.464462</td>\n",
       "    </tr>\n",
       "    <tr>\n",
       "      <th>10498</th>\n",
       "      <td>-1.085246</td>\n",
       "      <td>1.184227</td>\n",
       "      <td>-0.650406</td>\n",
       "      <td>0.098173</td>\n",
       "      <td>-0.342879</td>\n",
       "      <td>-0.408588</td>\n",
       "      <td>-0.146975</td>\n",
       "      <td>0.641763</td>\n",
       "      <td>4.257213</td>\n",
       "      <td>-0.233538</td>\n",
       "      <td>-0.228736</td>\n",
       "      <td>-0.209889</td>\n",
       "      <td>-0.248364</td>\n",
       "      <td>-0.250947</td>\n",
       "      <td>-0.621883</td>\n",
       "      <td>-0.415074</td>\n",
       "      <td>-0.464462</td>\n",
       "    </tr>\n",
       "  </tbody>\n",
       "</table>\n",
       "<p>10499 rows × 17 columns</p>\n",
       "</div>"
      ],
      "text/plain": [
       "       satisfaction_level  last_evaluation  number_project  \\\n",
       "0                1.076172         0.950348       -0.650406   \n",
       "1               -1.085246         0.774938        0.155806   \n",
       "2                0.996120        -1.213036        0.155806   \n",
       "3                0.275647        -0.160579        0.155806   \n",
       "4                0.795988         1.184227       -0.650406   \n",
       "...                   ...              ...             ...   \n",
       "10494           -0.404799         0.248710        0.155806   \n",
       "10495           -0.364773        -1.329976        0.155806   \n",
       "10496           -1.765692         1.184227        0.155806   \n",
       "10497           -0.484852         0.950348        0.155806   \n",
       "10498           -1.085246         1.184227       -0.650406   \n",
       "\n",
       "       average_montly_hours  time_spend_company  Work_accident  \\\n",
       "0                 -0.957957           -0.342879      -0.408588   \n",
       "1                 -1.555766            0.341120      -0.408588   \n",
       "2                 -0.977884           -0.342879      -0.408588   \n",
       "3                  0.476786           -1.026878      -0.408588   \n",
       "4                 -1.296716           -0.342879      -0.408588   \n",
       "...                     ...                 ...            ...   \n",
       "10494             -1.217008           -0.342879      -0.408588   \n",
       "10495              0.955034            0.341120       2.447450   \n",
       "10496             -0.240585           -1.026878      -0.408588   \n",
       "10497              0.775691            3.077116      -0.408588   \n",
       "10498              0.098173           -0.342879      -0.408588   \n",
       "\n",
       "       promotion_last_5years    salary  Dept_RandD  Dept_accounting   Dept_hr  \\\n",
       "0                  -0.146975 -0.923000   -0.234895        -0.233538 -0.228736   \n",
       "1                  -0.146975  0.641763   -0.234895        -0.233538  4.371845   \n",
       "2                  -0.146975 -0.923000   -0.234895        -0.233538 -0.228736   \n",
       "3                  -0.146975 -0.923000   -0.234895        -0.233538 -0.228736   \n",
       "4                  -0.146975  0.641763   -0.234895        -0.233538 -0.228736   \n",
       "...                      ...       ...         ...              ...       ...   \n",
       "10494              -0.146975 -0.923000   -0.234895        -0.233538 -0.228736   \n",
       "10495              -0.146975  0.641763   -0.234895        -0.233538 -0.228736   \n",
       "10496              -0.146975  0.641763   -0.234895        -0.233538 -0.228736   \n",
       "10497              -0.146975  0.641763   -0.234895        -0.233538 -0.228736   \n",
       "10498              -0.146975  0.641763    4.257213        -0.233538 -0.228736   \n",
       "\n",
       "       Dept_management  Dept_marketing  Dept_product_mng  Dept_sales  \\\n",
       "0            -0.209889       -0.248364         -0.250947   -0.621883   \n",
       "1            -0.209889       -0.248364         -0.250947   -0.621883   \n",
       "2            -0.209889       -0.248364         -0.250947   -0.621883   \n",
       "3            -0.209889       -0.248364         -0.250947   -0.621883   \n",
       "4            -0.209889        4.026348         -0.250947   -0.621883   \n",
       "...                ...             ...               ...         ...   \n",
       "10494        -0.209889       -0.248364         -0.250947   -0.621883   \n",
       "10495        -0.209889       -0.248364         -0.250947   -0.621883   \n",
       "10496        -0.209889       -0.248364         -0.250947   -0.621883   \n",
       "10497        -0.209889       -0.248364          3.984899   -0.621883   \n",
       "10498        -0.209889       -0.248364         -0.250947   -0.621883   \n",
       "\n",
       "       Dept_support  Dept_technical  \n",
       "0         -0.415074        2.153029  \n",
       "1         -0.415074       -0.464462  \n",
       "2         -0.415074        2.153029  \n",
       "3         -0.415074        2.153029  \n",
       "4         -0.415074       -0.464462  \n",
       "...             ...             ...  \n",
       "10494      2.409207       -0.464462  \n",
       "10495     -0.415074        2.153029  \n",
       "10496     -0.415074        2.153029  \n",
       "10497     -0.415074       -0.464462  \n",
       "10498     -0.415074       -0.464462  \n",
       "\n",
       "[10499 rows x 17 columns]"
      ]
     },
     "execution_count": 20,
     "metadata": {},
     "output_type": "execute_result"
    }
   ],
   "source": [
    "train_x_t = sc_model.transform(train_x)\n",
    "train_x_t = pd.DataFrame(train_x_t)\n",
    "train_x_t.columns = train_x.columns\n",
    "train_x_t"
   ]
  },
  {
   "cell_type": "code",
   "execution_count": 23,
   "id": "8ecfd3cd",
   "metadata": {},
   "outputs": [
    {
     "data": {
      "text/html": [
       "<div>\n",
       "<style scoped>\n",
       "    .dataframe tbody tr th:only-of-type {\n",
       "        vertical-align: middle;\n",
       "    }\n",
       "\n",
       "    .dataframe tbody tr th {\n",
       "        vertical-align: top;\n",
       "    }\n",
       "\n",
       "    .dataframe thead th {\n",
       "        text-align: right;\n",
       "    }\n",
       "</style>\n",
       "<table border=\"1\" class=\"dataframe\">\n",
       "  <thead>\n",
       "    <tr style=\"text-align: right;\">\n",
       "      <th></th>\n",
       "      <th>0</th>\n",
       "      <th>1</th>\n",
       "      <th>2</th>\n",
       "      <th>3</th>\n",
       "      <th>4</th>\n",
       "      <th>5</th>\n",
       "      <th>6</th>\n",
       "      <th>7</th>\n",
       "      <th>8</th>\n",
       "      <th>9</th>\n",
       "      <th>10</th>\n",
       "      <th>11</th>\n",
       "      <th>12</th>\n",
       "      <th>13</th>\n",
       "      <th>14</th>\n",
       "      <th>15</th>\n",
       "      <th>16</th>\n",
       "    </tr>\n",
       "  </thead>\n",
       "  <tbody>\n",
       "    <tr>\n",
       "      <th>0</th>\n",
       "      <td>1.156225</td>\n",
       "      <td>-0.920687</td>\n",
       "      <td>-0.650406</td>\n",
       "      <td>-0.997811</td>\n",
       "      <td>-0.342879</td>\n",
       "      <td>-0.408588</td>\n",
       "      <td>-0.146975</td>\n",
       "      <td>0.641763</td>\n",
       "      <td>-0.234895</td>\n",
       "      <td>-0.233538</td>\n",
       "      <td>-0.228736</td>\n",
       "      <td>-0.209889</td>\n",
       "      <td>-0.248364</td>\n",
       "      <td>-0.250947</td>\n",
       "      <td>1.608019</td>\n",
       "      <td>-0.415074</td>\n",
       "      <td>-0.464462</td>\n",
       "    </tr>\n",
       "    <tr>\n",
       "      <th>1</th>\n",
       "      <td>-0.684983</td>\n",
       "      <td>-1.388445</td>\n",
       "      <td>-1.456617</td>\n",
       "      <td>-1.097446</td>\n",
       "      <td>-0.342879</td>\n",
       "      <td>-0.408588</td>\n",
       "      <td>-0.146975</td>\n",
       "      <td>-0.923000</td>\n",
       "      <td>-0.234895</td>\n",
       "      <td>-0.233538</td>\n",
       "      <td>-0.228736</td>\n",
       "      <td>-0.209889</td>\n",
       "      <td>-0.248364</td>\n",
       "      <td>-0.250947</td>\n",
       "      <td>-0.621883</td>\n",
       "      <td>2.409207</td>\n",
       "      <td>-0.464462</td>\n",
       "    </tr>\n",
       "    <tr>\n",
       "      <th>2</th>\n",
       "      <td>0.355700</td>\n",
       "      <td>-0.511398</td>\n",
       "      <td>-0.650406</td>\n",
       "      <td>-0.918103</td>\n",
       "      <td>0.341120</td>\n",
       "      <td>2.447450</td>\n",
       "      <td>-0.146975</td>\n",
       "      <td>-0.923000</td>\n",
       "      <td>4.257213</td>\n",
       "      <td>-0.233538</td>\n",
       "      <td>-0.228736</td>\n",
       "      <td>-0.209889</td>\n",
       "      <td>-0.248364</td>\n",
       "      <td>-0.250947</td>\n",
       "      <td>-0.621883</td>\n",
       "      <td>-0.415074</td>\n",
       "      <td>-0.464462</td>\n",
       "    </tr>\n",
       "    <tr>\n",
       "      <th>3</th>\n",
       "      <td>-0.164642</td>\n",
       "      <td>-0.745277</td>\n",
       "      <td>-1.456617</td>\n",
       "      <td>-1.794890</td>\n",
       "      <td>-1.026878</td>\n",
       "      <td>-0.408588</td>\n",
       "      <td>-0.146975</td>\n",
       "      <td>2.206526</td>\n",
       "      <td>-0.234895</td>\n",
       "      <td>-0.233538</td>\n",
       "      <td>-0.228736</td>\n",
       "      <td>4.764428</td>\n",
       "      <td>-0.248364</td>\n",
       "      <td>-0.250947</td>\n",
       "      <td>-0.621883</td>\n",
       "      <td>-0.415074</td>\n",
       "      <td>-0.464462</td>\n",
       "    </tr>\n",
       "    <tr>\n",
       "      <th>4</th>\n",
       "      <td>1.036146</td>\n",
       "      <td>1.067287</td>\n",
       "      <td>0.962017</td>\n",
       "      <td>1.134377</td>\n",
       "      <td>1.025119</td>\n",
       "      <td>-0.408588</td>\n",
       "      <td>-0.146975</td>\n",
       "      <td>-0.923000</td>\n",
       "      <td>-0.234895</td>\n",
       "      <td>-0.233538</td>\n",
       "      <td>-0.228736</td>\n",
       "      <td>-0.209889</td>\n",
       "      <td>-0.248364</td>\n",
       "      <td>-0.250947</td>\n",
       "      <td>-0.621883</td>\n",
       "      <td>2.409207</td>\n",
       "      <td>-0.464462</td>\n",
       "    </tr>\n",
       "    <tr>\n",
       "      <th>...</th>\n",
       "      <td>...</td>\n",
       "      <td>...</td>\n",
       "      <td>...</td>\n",
       "      <td>...</td>\n",
       "      <td>...</td>\n",
       "      <td>...</td>\n",
       "      <td>...</td>\n",
       "      <td>...</td>\n",
       "      <td>...</td>\n",
       "      <td>...</td>\n",
       "      <td>...</td>\n",
       "      <td>...</td>\n",
       "      <td>...</td>\n",
       "      <td>...</td>\n",
       "      <td>...</td>\n",
       "      <td>...</td>\n",
       "      <td>...</td>\n",
       "    </tr>\n",
       "    <tr>\n",
       "      <th>4495</th>\n",
       "      <td>-0.364773</td>\n",
       "      <td>0.365649</td>\n",
       "      <td>0.155806</td>\n",
       "      <td>0.098173</td>\n",
       "      <td>-1.026878</td>\n",
       "      <td>-0.408588</td>\n",
       "      <td>-0.146975</td>\n",
       "      <td>0.641763</td>\n",
       "      <td>-0.234895</td>\n",
       "      <td>-0.233538</td>\n",
       "      <td>-0.228736</td>\n",
       "      <td>-0.209889</td>\n",
       "      <td>4.026348</td>\n",
       "      <td>-0.250947</td>\n",
       "      <td>-0.621883</td>\n",
       "      <td>-0.415074</td>\n",
       "      <td>-0.464462</td>\n",
       "    </tr>\n",
       "    <tr>\n",
       "      <th>4496</th>\n",
       "      <td>0.435752</td>\n",
       "      <td>-1.096096</td>\n",
       "      <td>-0.650406</td>\n",
       "      <td>-0.997811</td>\n",
       "      <td>0.341120</td>\n",
       "      <td>-0.408588</td>\n",
       "      <td>-0.146975</td>\n",
       "      <td>0.641763</td>\n",
       "      <td>-0.234895</td>\n",
       "      <td>-0.233538</td>\n",
       "      <td>-0.228736</td>\n",
       "      <td>-0.209889</td>\n",
       "      <td>-0.248364</td>\n",
       "      <td>-0.250947</td>\n",
       "      <td>-0.621883</td>\n",
       "      <td>-0.415074</td>\n",
       "      <td>-0.464462</td>\n",
       "    </tr>\n",
       "    <tr>\n",
       "      <th>4497</th>\n",
       "      <td>0.916067</td>\n",
       "      <td>-0.920687</td>\n",
       "      <td>0.962017</td>\n",
       "      <td>0.456859</td>\n",
       "      <td>-1.026878</td>\n",
       "      <td>-0.408588</td>\n",
       "      <td>-0.146975</td>\n",
       "      <td>0.641763</td>\n",
       "      <td>-0.234895</td>\n",
       "      <td>-0.233538</td>\n",
       "      <td>-0.228736</td>\n",
       "      <td>-0.209889</td>\n",
       "      <td>-0.248364</td>\n",
       "      <td>-0.250947</td>\n",
       "      <td>-0.621883</td>\n",
       "      <td>2.409207</td>\n",
       "      <td>-0.464462</td>\n",
       "    </tr>\n",
       "    <tr>\n",
       "      <th>4498</th>\n",
       "      <td>-0.725009</td>\n",
       "      <td>-1.505385</td>\n",
       "      <td>-1.456617</td>\n",
       "      <td>-0.898176</td>\n",
       "      <td>-0.342879</td>\n",
       "      <td>-0.408588</td>\n",
       "      <td>-0.146975</td>\n",
       "      <td>-0.923000</td>\n",
       "      <td>-0.234895</td>\n",
       "      <td>-0.233538</td>\n",
       "      <td>-0.228736</td>\n",
       "      <td>-0.209889</td>\n",
       "      <td>-0.248364</td>\n",
       "      <td>-0.250947</td>\n",
       "      <td>-0.621883</td>\n",
       "      <td>-0.415074</td>\n",
       "      <td>2.153029</td>\n",
       "    </tr>\n",
       "    <tr>\n",
       "      <th>4499</th>\n",
       "      <td>1.156225</td>\n",
       "      <td>0.891878</td>\n",
       "      <td>0.962017</td>\n",
       "      <td>0.357224</td>\n",
       "      <td>-1.026878</td>\n",
       "      <td>-0.408588</td>\n",
       "      <td>-0.146975</td>\n",
       "      <td>0.641763</td>\n",
       "      <td>-0.234895</td>\n",
       "      <td>-0.233538</td>\n",
       "      <td>-0.228736</td>\n",
       "      <td>-0.209889</td>\n",
       "      <td>4.026348</td>\n",
       "      <td>-0.250947</td>\n",
       "      <td>-0.621883</td>\n",
       "      <td>-0.415074</td>\n",
       "      <td>-0.464462</td>\n",
       "    </tr>\n",
       "  </tbody>\n",
       "</table>\n",
       "<p>4500 rows × 17 columns</p>\n",
       "</div>"
      ],
      "text/plain": [
       "            0         1         2         3         4         5         6   \\\n",
       "0     1.156225 -0.920687 -0.650406 -0.997811 -0.342879 -0.408588 -0.146975   \n",
       "1    -0.684983 -1.388445 -1.456617 -1.097446 -0.342879 -0.408588 -0.146975   \n",
       "2     0.355700 -0.511398 -0.650406 -0.918103  0.341120  2.447450 -0.146975   \n",
       "3    -0.164642 -0.745277 -1.456617 -1.794890 -1.026878 -0.408588 -0.146975   \n",
       "4     1.036146  1.067287  0.962017  1.134377  1.025119 -0.408588 -0.146975   \n",
       "...        ...       ...       ...       ...       ...       ...       ...   \n",
       "4495 -0.364773  0.365649  0.155806  0.098173 -1.026878 -0.408588 -0.146975   \n",
       "4496  0.435752 -1.096096 -0.650406 -0.997811  0.341120 -0.408588 -0.146975   \n",
       "4497  0.916067 -0.920687  0.962017  0.456859 -1.026878 -0.408588 -0.146975   \n",
       "4498 -0.725009 -1.505385 -1.456617 -0.898176 -0.342879 -0.408588 -0.146975   \n",
       "4499  1.156225  0.891878  0.962017  0.357224 -1.026878 -0.408588 -0.146975   \n",
       "\n",
       "            7         8         9         10        11        12        13  \\\n",
       "0     0.641763 -0.234895 -0.233538 -0.228736 -0.209889 -0.248364 -0.250947   \n",
       "1    -0.923000 -0.234895 -0.233538 -0.228736 -0.209889 -0.248364 -0.250947   \n",
       "2    -0.923000  4.257213 -0.233538 -0.228736 -0.209889 -0.248364 -0.250947   \n",
       "3     2.206526 -0.234895 -0.233538 -0.228736  4.764428 -0.248364 -0.250947   \n",
       "4    -0.923000 -0.234895 -0.233538 -0.228736 -0.209889 -0.248364 -0.250947   \n",
       "...        ...       ...       ...       ...       ...       ...       ...   \n",
       "4495  0.641763 -0.234895 -0.233538 -0.228736 -0.209889  4.026348 -0.250947   \n",
       "4496  0.641763 -0.234895 -0.233538 -0.228736 -0.209889 -0.248364 -0.250947   \n",
       "4497  0.641763 -0.234895 -0.233538 -0.228736 -0.209889 -0.248364 -0.250947   \n",
       "4498 -0.923000 -0.234895 -0.233538 -0.228736 -0.209889 -0.248364 -0.250947   \n",
       "4499  0.641763 -0.234895 -0.233538 -0.228736 -0.209889  4.026348 -0.250947   \n",
       "\n",
       "            14        15        16  \n",
       "0     1.608019 -0.415074 -0.464462  \n",
       "1    -0.621883  2.409207 -0.464462  \n",
       "2    -0.621883 -0.415074 -0.464462  \n",
       "3    -0.621883 -0.415074 -0.464462  \n",
       "4    -0.621883  2.409207 -0.464462  \n",
       "...        ...       ...       ...  \n",
       "4495 -0.621883 -0.415074 -0.464462  \n",
       "4496 -0.621883 -0.415074 -0.464462  \n",
       "4497 -0.621883  2.409207 -0.464462  \n",
       "4498 -0.621883 -0.415074  2.153029  \n",
       "4499 -0.621883 -0.415074 -0.464462  \n",
       "\n",
       "[4500 rows x 17 columns]"
      ]
     },
     "execution_count": 23,
     "metadata": {},
     "output_type": "execute_result"
    }
   ],
   "source": [
    "test_x_t = sc_model.transform(test_x)\n",
    "test_x_t = pd.DataFrame(test_x_t)\n",
    "test_x_t.columns = test_x_t.columns\n",
    "test_x_t"
   ]
  },
  {
   "cell_type": "markdown",
   "id": "2f43febc",
   "metadata": {},
   "source": [
    "### Without Hyperparameter Tuning"
   ]
  },
  {
   "cell_type": "code",
   "execution_count": 25,
   "id": "cffe3cc2",
   "metadata": {},
   "outputs": [
    {
     "data": {
      "text/plain": [
       "KNeighborsClassifier(n_neighbors=3)"
      ]
     },
     "execution_count": 25,
     "metadata": {},
     "output_type": "execute_result"
    }
   ],
   "source": [
    "KNN = KNeighborsClassifier(n_neighbors=3,weights='uniform',algorithm='auto')\n",
    "\n",
    "KNN.fit(train_x,train_y)"
   ]
  },
  {
   "cell_type": "code",
   "execution_count": 29,
   "id": "ab007cd3",
   "metadata": {},
   "outputs": [
    {
     "data": {
      "text/plain": [
       "0.5"
      ]
     },
     "execution_count": 29,
     "metadata": {},
     "output_type": "execute_result"
    }
   ],
   "source": [
    "train_pred = pd.DataFrame(KNN.predict_proba(train_x_t))[1]\n",
    "roc_auc_score(train_y,train_pred)"
   ]
  },
  {
   "cell_type": "code",
   "execution_count": 30,
   "id": "de9224dd",
   "metadata": {},
   "outputs": [
    {
     "data": {
      "text/plain": [
       "0.5"
      ]
     },
     "execution_count": 30,
     "metadata": {},
     "output_type": "execute_result"
    }
   ],
   "source": [
    "test_pred = pd.DataFrame(KNN.predict_proba(test_x_t))[1]\n",
    "roc_auc_score(test_y,test_pred)"
   ]
  },
  {
   "cell_type": "markdown",
   "id": "5756e7ad",
   "metadata": {},
   "source": [
    "### With Hyperparameter Tuning"
   ]
  },
  {
   "cell_type": "code",
   "execution_count": 28,
   "id": "50061c2f",
   "metadata": {},
   "outputs": [],
   "source": [
    "params = {'n_neighbors':[3,5,7,9],\n",
    "          'weights':['uniform','distance'],\n",
    "          'algorithm': ['ball_tree','kd_tree']}"
   ]
  },
  {
   "cell_type": "code",
   "execution_count": 31,
   "id": "c908df32",
   "metadata": {},
   "outputs": [
    {
     "data": {
      "text/plain": [
       "GridSearchCV(cv=5, estimator=KNeighborsClassifier(),\n",
       "             param_grid={'algorithm': ['ball_tree', 'kd_tree'],\n",
       "                         'n_neighbors': [3, 5, 7, 9],\n",
       "                         'weights': ['uniform', 'distance']},\n",
       "             scoring='roc_auc')"
      ]
     },
     "execution_count": 31,
     "metadata": {},
     "output_type": "execute_result"
    }
   ],
   "source": [
    "KNN_H = GridSearchCV(KNeighborsClassifier(),param_grid=params,cv=5,scoring='roc_auc')\n",
    "\n",
    "KNN_H.fit(train_x_t,train_y)"
   ]
  },
  {
   "cell_type": "code",
   "execution_count": 32,
   "id": "7d00d459",
   "metadata": {},
   "outputs": [
    {
     "data": {
      "text/plain": [
       "{'algorithm': 'ball_tree', 'n_neighbors': 9, 'weights': 'distance'}"
      ]
     },
     "execution_count": 32,
     "metadata": {},
     "output_type": "execute_result"
    }
   ],
   "source": [
    "KNN_H.best_params_"
   ]
  },
  {
   "cell_type": "markdown",
   "id": "93c22c75",
   "metadata": {},
   "source": [
    "### Using Best Params"
   ]
  },
  {
   "cell_type": "code",
   "execution_count": 33,
   "id": "fe39f4e6",
   "metadata": {},
   "outputs": [
    {
     "data": {
      "text/plain": [
       "KNeighborsClassifier(algorithm='ball_tree', n_neighbors=9, weights='distance')"
      ]
     },
     "execution_count": 33,
     "metadata": {},
     "output_type": "execute_result"
    }
   ],
   "source": [
    "KNN = KNeighborsClassifier(n_neighbors=9,weights='distance',algorithm='ball_tree')\n",
    "\n",
    "KNN.fit(train_x_t,train_y)"
   ]
  },
  {
   "cell_type": "code",
   "execution_count": 34,
   "id": "bcd73a3b",
   "metadata": {},
   "outputs": [
    {
     "data": {
      "text/plain": [
       "1.0"
      ]
     },
     "execution_count": 34,
     "metadata": {},
     "output_type": "execute_result"
    }
   ],
   "source": [
    "train_pred = pd.DataFrame(KNN.predict_proba(train_x_t))[1]\n",
    "roc_auc_score(train_y,train_pred)"
   ]
  },
  {
   "cell_type": "code",
   "execution_count": 35,
   "id": "5d45f3bb",
   "metadata": {},
   "outputs": [
    {
     "data": {
      "text/plain": [
       "0.9834435883336463"
      ]
     },
     "execution_count": 35,
     "metadata": {},
     "output_type": "execute_result"
    }
   ],
   "source": [
    "test_pred = pd.DataFrame(KNN.predict_proba(test_x_t))[1]\n",
    "roc_auc_score(test_y,test_pred)"
   ]
  }
 ],
 "metadata": {
  "kernelspec": {
   "display_name": "Python 3 (ipykernel)",
   "language": "python",
   "name": "python3"
  },
  "language_info": {
   "codemirror_mode": {
    "name": "ipython",
    "version": 3
   },
   "file_extension": ".py",
   "mimetype": "text/x-python",
   "name": "python",
   "nbconvert_exporter": "python",
   "pygments_lexer": "ipython3",
   "version": "3.9.7"
  }
 },
 "nbformat": 4,
 "nbformat_minor": 5
}
